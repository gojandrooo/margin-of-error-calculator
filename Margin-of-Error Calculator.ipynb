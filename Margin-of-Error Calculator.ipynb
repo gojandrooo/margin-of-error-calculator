{
 "cells": [
  {
   "cell_type": "markdown",
   "metadata": {},
   "source": [
    "## Margin of Error and Confidence Level\n",
    "\n",
    "### Used for quickly calculating margin-of-error (MOE) corresponding to confidence level for reporting survey results when the population size is known (future iteration to include population size unknown).\n",
    "\n",
    "##### Notes: \n",
    "- results are for two-tailed test\n",
    "- assumes population is normal\n",
    "- assumes Proportion Percentage (p) = 0.5\n",
    "- MOE is rounded down to whole number"
   ]
  },
  {
   "cell_type": "code",
   "execution_count": 1,
   "metadata": {
    "collapsed": true
   },
   "outputs": [],
   "source": [
    "# NEXT ITERATION\n",
    "# raw input Is population size known? y/n\n",
    "\n",
    "# if y run current version\n",
    "# if n run version for unknown population size"
   ]
  },
  {
   "cell_type": "code",
   "execution_count": 2,
   "metadata": {
    "collapsed": true
   },
   "outputs": [],
   "source": [
    "# Input here\n",
    "confidence_level = (.95)\n",
    "sample_size = (400)\n",
    "population_size = (4600)"
   ]
  },
  {
   "cell_type": "code",
   "execution_count": 3,
   "metadata": {},
   "outputs": [],
   "source": [
    "import scipy.stats as st\n",
    "import math\n",
    "\n",
    "# reference\n",
    "CL = confidence_level\n",
    "n = sample_size\n",
    "N = population_size\n",
    "\n",
    "# alpha\n",
    "alpha = round((1-CL)/2,3)\n",
    "\n",
    "#Z-score\n",
    "Z = st.norm.ppf(CL+alpha)\n",
    "Z = round(Z,2)\n",
    "\n",
    "# proportion percentage\n",
    "p = 0.5\n",
    "\n",
    "# MOE formula: population known\n",
    "MOE = Z * math.sqrt(p * (1-p)) / math.sqrt((N-1) * n / (N-n))\n",
    "MOE = math.floor((MOE*100))"
   ]
  },
  {
   "cell_type": "code",
   "execution_count": 4,
   "metadata": {},
   "outputs": [
    {
     "name": "stdout",
     "output_type": "stream",
     "text": [
      "+/- 4% margin-of-error at 95% confidence level\n"
     ]
    }
   ],
   "source": [
    "# Output here\n",
    "print(\"+/-\", str(MOE)+'%', \"margin-of-error at\",str(int(CL*100))+\"%\", \"confidence level\")"
   ]
  }
 ],
 "metadata": {
  "kernelspec": {
   "display_name": "Python 3",
   "language": "python",
   "name": "python3"
  },
  "language_info": {
   "codemirror_mode": {
    "name": "ipython",
    "version": 3
   },
   "file_extension": ".py",
   "mimetype": "text/x-python",
   "name": "python",
   "nbconvert_exporter": "python",
   "pygments_lexer": "ipython3",
   "version": "3.6.3"
  }
 },
 "nbformat": 4,
 "nbformat_minor": 2
}
